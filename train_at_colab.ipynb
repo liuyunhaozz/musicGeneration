{
  "nbformat": 4,
  "nbformat_minor": 0,
  "metadata": {
    "colab": {
      "name": "mymusic.ipynb",
      "provenance": [],
      "collapsed_sections": []
    },
    "kernelspec": {
      "name": "python3",
      "display_name": "Python 3"
    },
    "language_info": {
      "name": "python"
    },
    "accelerator": "GPU",
    "gpuClass": "standard"
  },
  "cells": [
    {
      "cell_type": "code",
      "execution_count": null,
      "metadata": {
        "colab": {
          "base_uri": "https://localhost:8080/"
        },
        "id": "hIbGWfDgD41X",
        "outputId": "01779d80-30f4-46cd-c31b-2e07fa7ee895"
      },
      "outputs": [
        {
          "output_type": "stream",
          "name": "stdout",
          "text": [
            "Cloning into 'musicGeneration'...\n",
            "remote: Enumerating objects: 31, done.\u001b[K\n",
            "remote: Counting objects: 100% (31/31), done.\u001b[K\n",
            "remote: Compressing objects: 100% (23/23), done.\u001b[K\n",
            "remote: Total 31 (delta 4), reused 27 (delta 3), pack-reused 0\u001b[K\n",
            "Unpacking objects: 100% (31/31), done.\n"
          ]
        }
      ],
      "source": [
        "!git clone https://github.com/liuyunhaozz/musicGeneration.git"
      ]
    },
    {
      "cell_type": "code",
      "source": [
        "!cd musicGeneration && git pull"
      ],
      "metadata": {
        "colab": {
          "base_uri": "https://localhost:8080/"
        },
        "id": "qAKysBciFTeh",
        "outputId": "8a2e4d54-e6ee-4fc0-e4af-9cf3fe85f97d"
      },
      "execution_count": null,
      "outputs": [
        {
          "output_type": "stream",
          "name": "stdout",
          "text": [
            "remote: Enumerating objects: 13, done.\u001b[K\n",
            "remote: Counting objects:   7% (1/13)\u001b[K\rremote: Counting objects:  15% (2/13)\u001b[K\rremote: Counting objects:  23% (3/13)\u001b[K\rremote: Counting objects:  30% (4/13)\u001b[K\rremote: Counting objects:  38% (5/13)\u001b[K\rremote: Counting objects:  46% (6/13)\u001b[K\rremote: Counting objects:  53% (7/13)\u001b[K\rremote: Counting objects:  61% (8/13)\u001b[K\rremote: Counting objects:  69% (9/13)\u001b[K\rremote: Counting objects:  76% (10/13)\u001b[K\rremote: Counting objects:  84% (11/13)\u001b[K\rremote: Counting objects:  92% (12/13)\u001b[K\rremote: Counting objects: 100% (13/13)\u001b[K\rremote: Counting objects: 100% (13/13), done.\u001b[K\n",
            "remote: Compressing objects:  25% (1/4)\u001b[K\rremote: Compressing objects:  50% (2/4)\u001b[K\rremote: Compressing objects:  75% (3/4)\u001b[K\rremote: Compressing objects: 100% (4/4)\u001b[K\rremote: Compressing objects: 100% (4/4), done.\u001b[K\n",
            "remote: Total 9 (delta 4), reused 9 (delta 4), pack-reused 0\u001b[K\n",
            "Unpacking objects: 100% (9/9), done.\n",
            "From https://github.com/liuyunhaozz/musicGeneration\n",
            "   7a2b292..0117933  master     -> origin/master\n",
            "Updating 7a2b292..0117933\n",
            "Fast-forward\n",
            " __pycache__/Dataset.cpython-36.pyc   | Bin \u001b[31m2734\u001b[m -> \u001b[32m2673\u001b[m bytes\n",
            " __pycache__/musicPlay.cpython-36.pyc | Bin \u001b[31m0\u001b[m -> \u001b[32m841\u001b[m bytes\n",
            " generate.py                          |  85 \u001b[32m+++++++++++++++++++++++++++++++++++\u001b[m\n",
            " musicPlay.py                         |  25 \u001b[32m+++\u001b[m\u001b[31m--------\u001b[m\n",
            " training_checkpoints/model           | Bin \u001b[31m0\u001b[m -> \u001b[32m21429483\u001b[m bytes\n",
            " 5 files changed, 92 insertions(+), 18 deletions(-)\n",
            " create mode 100644 __pycache__/musicPlay.cpython-36.pyc\n",
            " create mode 100644 generate.py\n",
            " create mode 100644 training_checkpoints/model\n"
          ]
        }
      ]
    },
    {
      "cell_type": "code",
      "source": [
        "!cd musicGeneration && python train.py --data music.txt"
      ],
      "metadata": {
        "colab": {
          "base_uri": "https://localhost:8080/"
        },
        "id": "Tu47Q1YOEDtB",
        "outputId": "11cb4852-ea35-45cf-880e-d5462fdf242d"
      },
      "execution_count": null,
      "outputs": [
        {
          "output_type": "stream",
          "name": "stdout",
          "text": [
            "Found 339 songs in text\n",
            "There are 86 unique characters in the dataset\n",
            "339\n",
            "2022-08-27 08:19:27.940309: W tensorflow/core/common_runtime/gpu/gpu_bfc_allocator.cc:39] Overriding allow_growth setting because the TF_FORCE_GPU_ALLOW_GROWTH environment variable is set. Original config value was 0.\n",
            "Model: \"sequential\"\n",
            "_________________________________________________________________\n",
            " Layer (type)                Output Shape              Param #   \n",
            "=================================================================\n",
            " embedding (Embedding)       (4, None, 256)            22016     \n",
            "                                                                 \n",
            " lstm (LSTM)                 (4, None, 1024)           5246976   \n",
            "                                                                 \n",
            " dense (Dense)               (4, None, 86)             88150     \n",
            "                                                                 \n",
            "=================================================================\n",
            "Total params: 5,357,142\n",
            "Trainable params: 5,357,142\n",
            "Non-trainable params: 0\n",
            "_________________________________________________________________\n",
            "Figure(640x480)\n",
            "Figure(640x480)\n",
            "Figure(640x480)\n",
            "Figure(640x480)\n",
            "Figure(640x480)\n",
            "Figure(640x480)\n",
            "Figure(640x480)\n",
            "Figure(640x480)\n",
            "Figure(640x480)\n",
            "Figure(640x480)\n",
            "Figure(640x480)\n",
            "Figure(640x480)\n",
            "Figure(640x480)\n",
            "Figure(640x480)\n",
            "Figure(640x480)\n",
            "Figure(640x480)\n",
            "Figure(640x480)\n",
            "Figure(640x480)\n",
            "Figure(640x480)\n",
            "Figure(640x480)\n",
            "Figure(640x480)\n",
            "Figure(640x480)\n",
            "Figure(640x480)\n",
            "Figure(640x480)\n",
            "Figure(640x480)\n",
            "Figure(640x480)\n",
            "Figure(640x480)\n",
            "Figure(640x480)\n",
            "Figure(640x480)\n",
            "Figure(640x480)\n",
            "100% 2000/2000 [01:03<00:00, 31.40it/s]\n"
          ]
        }
      ]
    },
    {
      "cell_type": "code",
      "source": [
        "!cd musicGeneration && python generate.py --data music.txt --model my_ckpt --startstr X --length 1000"
      ],
      "metadata": {
        "id": "dy6qh9BqWrFf"
      },
      "execution_count": null,
      "outputs": []
    }
  ]
}