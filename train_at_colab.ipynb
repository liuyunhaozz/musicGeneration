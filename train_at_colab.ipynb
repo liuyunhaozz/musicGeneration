{
 "cells": [
  {
   "cell_type": "code",
   "execution_count": null,
   "metadata": {
    "colab": {
     "base_uri": "https://localhost:8080/"
    },
    "id": "hIbGWfDgD41X",
    "outputId": "01779d80-30f4-46cd-c31b-2e07fa7ee895"
   },
   "outputs": [],
   "source": [
    "!git clone https://github.com/liuyunhaozz/musicGeneration.git"
   ]
  },
  {
   "cell_type": "code",
   "execution_count": null,
   "metadata": {
    "colab": {
     "base_uri": "https://localhost:8080/"
    },
    "id": "qAKysBciFTeh",
    "outputId": "8a2e4d54-e6ee-4fc0-e4af-9cf3fe85f97d"
   },
   "outputs": [],
   "source": [
    "!cd musicGeneration && git pull"
   ]
  },
  {
   "cell_type": "code",
   "execution_count": null,
   "metadata": {
    "colab": {
     "base_uri": "https://localhost:8080/"
    },
    "id": "Tu47Q1YOEDtB",
    "outputId": "11cb4852-ea35-45cf-880e-d5462fdf242d"
   },
   "outputs": [],
   "source": [
    "!cd musicGeneration && python train.py --data music.txt"
   ]
  },
  {
   "cell_type": "code",
   "execution_count": null,
   "metadata": {
    "id": "dy6qh9BqWrFf"
   },
   "outputs": [],
   "source": [
    "!cd musicGeneration && python generate.py --data music.txt --model my_ckpt --startstr X --length 1000"
   ]
  },
  {
   "cell_type": "code",
   "execution_count": null,
   "metadata": {},
   "outputs": [],
   "source": [
    "import IPython\n",
    "with open(\"musicGeneration/songs/0.abc\", \"r\") as f:\n",
    "    sheet = f.read()\n",
    "IPython.display.IFrame(src=\"https://music-generation-fe.vercel.app/?abc={}\".format(sheet), width=\"100%\", height=\"500\")"
   ]
  }
 ],
 "metadata": {
  "accelerator": "GPU",
  "colab": {
   "collapsed_sections": [],
   "name": "mymusic.ipynb",
   "provenance": []
  },
  "gpuClass": "standard",
  "kernelspec": {
   "display_name": "Python 3.10.4 64-bit",
   "language": "python",
   "name": "python3"
  },
  "language_info": {
   "codemirror_mode": {
    "name": "ipython",
    "version": 3
   },
   "file_extension": ".py",
   "mimetype": "text/x-python",
   "name": "python",
   "nbconvert_exporter": "python",
   "pygments_lexer": "ipython3",
   "version": "3.10.4"
  },
  "vscode": {
   "interpreter": {
    "hash": "e7370f93d1d0cde622a1f8e1c04877d8463912d04d973331ad4851f04de6915a"
   }
  }
 },
 "nbformat": 4,
 "nbformat_minor": 4
}
